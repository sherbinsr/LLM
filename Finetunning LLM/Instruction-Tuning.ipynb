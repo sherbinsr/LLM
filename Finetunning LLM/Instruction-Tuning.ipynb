{
 "cells": [
  {
   "cell_type": "markdown",
   "id": "aacc5be0-9b13-4e25-867e-f612c2072351",
   "metadata": {},
   "source": [
    "# Instruction Tuning"
   ]
  },
  {
   "cell_type": "code",
   "execution_count": 2,
   "id": "2265bcdb-6d02-4328-96d5-ccc1d4b904cd",
   "metadata": {},
   "outputs": [],
   "source": [
    "# Import required libarires\n",
    "import itertools\n",
    "import jsonlines\n",
    "\n",
    "from datasets import load_dataset\n",
    "from pprint import pprint\n",
    "\n",
    "from llama import BasicModelRunner\n",
    "from transformers import AutoTokenizer, AutoModelForCausalLM\n",
    "from transformers import AutoModelForSeq2SeqLM, AutoTokenizer"
   ]
  },
  {
   "cell_type": "markdown",
   "id": "2fc8ede7-be5c-4956-9c81-1746cf72bc4a",
   "metadata": {},
   "source": [
    "## Load instruction tuned dataset"
   ]
  },
  {
   "cell_type": "code",
   "execution_count": 5,
   "id": "850f2bf0-75a1-4e9f-aecd-df65050ac06b",
   "metadata": {},
   "outputs": [
    {
     "data": {
      "application/vnd.jupyter.widget-view+json": {
       "model_id": "55c982a51ffd452cbb67ebc24ca669d5",
       "version_major": 2,
       "version_minor": 0
      },
      "text/plain": [
       "Downloading readme:   0%|          | 0.00/7.47k [00:00<?, ?B/s]"
      ]
     },
     "metadata": {},
     "output_type": "display_data"
    }
   ],
   "source": [
    "instruction_tuned_dataset = load_dataset(\"tatsu-lab/alpaca\", split=\"train\", streaming=True)"
   ]
  },
  {
   "cell_type": "code",
   "execution_count": 7,
   "id": "a4d321a3-55c5-49fd-a3df-ea49aaed5aab",
   "metadata": {},
   "outputs": [
    {
     "name": "stdout",
     "output_type": "stream",
     "text": [
      "Instruction-tuned dataset:\n",
      "{'instruction': 'Give three tips for staying healthy.', 'input': '', 'output': '1.Eat a balanced diet and make sure to include plenty of fruits and vegetables. \\n2. Exercise regularly to keep your body active and strong. \\n3. Get enough sleep and maintain a consistent sleep schedule.', 'text': 'Below is an instruction that describes a task. Write a response that appropriately completes the request.\\n\\n### Instruction:\\nGive three tips for staying healthy.\\n\\n### Response:\\n1.Eat a balanced diet and make sure to include plenty of fruits and vegetables. \\n2. Exercise regularly to keep your body active and strong. \\n3. Get enough sleep and maintain a consistent sleep schedule.'}\n",
      "{'instruction': 'What are the three primary colors?', 'input': '', 'output': 'The three primary colors are red, blue, and yellow.', 'text': 'Below is an instruction that describes a task. Write a response that appropriately completes the request.\\n\\n### Instruction:\\nWhat are the three primary colors?\\n\\n### Response:\\nThe three primary colors are red, blue, and yellow.'}\n",
      "{'instruction': 'Describe the structure of an atom.', 'input': '', 'output': 'An atom is made up of a nucleus, which contains protons and neutrons, surrounded by electrons that travel in orbits around the nucleus. The protons and neutrons have a positive charge, while the electrons have a negative charge, resulting in an overall neutral atom. The number of each particle determines the atomic number and the type of atom.', 'text': 'Below is an instruction that describes a task. Write a response that appropriately completes the request.\\n\\n### Instruction:\\nDescribe the structure of an atom.\\n\\n### Response:\\nAn atom is made up of a nucleus, which contains protons and neutrons, surrounded by electrons that travel in orbits around the nucleus. The protons and neutrons have a positive charge, while the electrons have a negative charge, resulting in an overall neutral atom. The number of each particle determines the atomic number and the type of atom.'}\n",
      "{'instruction': 'How can we reduce air pollution?', 'input': '', 'output': 'There are a number of ways to reduce air pollution, such as shifting to renewable energy sources, encouraging the use of public transportation, prohibiting the burning of fossil fuels, implementing policies to reduce emissions from industrial sources, and implementing vehicle emissions standards. Additionally, individuals can do their part to reduce air pollution by reducing car use, avoiding burning materials such as wood, and changing to energy efficient appliances.', 'text': 'Below is an instruction that describes a task. Write a response that appropriately completes the request.\\n\\n### Instruction:\\nHow can we reduce air pollution?\\n\\n### Response:\\nThere are a number of ways to reduce air pollution, such as shifting to renewable energy sources, encouraging the use of public transportation, prohibiting the burning of fossil fuels, implementing policies to reduce emissions from industrial sources, and implementing vehicle emissions standards. Additionally, individuals can do their part to reduce air pollution by reducing car use, avoiding burning materials such as wood, and changing to energy efficient appliances.'}\n",
      "{'instruction': 'Describe a time when you had to make a difficult decision.', 'input': '', 'output': 'I had to make a difficult decision when I was working as a project manager at a construction company. I was in charge of a project that needed to be completed by a certain date in order to meet the client’s expectations. However, due to unexpected delays, we were not able to meet the deadline and so I had to make a difficult decision. I decided to extend the deadline, but I had to stretch the team’s resources even further and increase the budget. Although it was a risky decision, I ultimately decided to go ahead with it to ensure that the project was completed on time and that the client’s expectations were met. The project was eventually successfully completed and this was seen as a testament to my leadership and decision-making abilities.', 'text': 'Below is an instruction that describes a task. Write a response that appropriately completes the request.\\n\\n### Instruction:\\nDescribe a time when you had to make a difficult decision.\\n\\n### Response:\\nI had to make a difficult decision when I was working as a project manager at a construction company. I was in charge of a project that needed to be completed by a certain date in order to meet the client’s expectations. However, due to unexpected delays, we were not able to meet the deadline and so I had to make a difficult decision. I decided to extend the deadline, but I had to stretch the team’s resources even further and increase the budget. Although it was a risky decision, I ultimately decided to go ahead with it to ensure that the project was completed on time and that the client’s expectations were met. The project was eventually successfully completed and this was seen as a testament to my leadership and decision-making abilities.'}\n"
     ]
    }
   ],
   "source": [
    "# display instruction tuned dataset\n",
    "m = 5\n",
    "print(\"Instruction-tuned dataset:\")\n",
    "top_m = list(itertools.islice(instruction_tuned_dataset, m))\n",
    "for j in top_m:\n",
    "  print(j)"
   ]
  },
  {
   "cell_type": "markdown",
   "id": "e43fed26-e951-455f-9c41-a5351e197bd8",
   "metadata": {},
   "source": [
    "## prompt templates"
   ]
  },
  {
   "cell_type": "code",
   "execution_count": 10,
   "id": "db2fb3a7-6c39-48ac-9e34-8805520f45cf",
   "metadata": {},
   "outputs": [],
   "source": [
    "# prompt template with input\n",
    "prompt_template_with_input = \"\"\"Below is an instruction that describes a task, paired with an input that provides further context. Write a response that appropriately completes the request.\n",
    "\n",
    "### Instruction:\n",
    "{instruction}\n",
    "\n",
    "### Input:\n",
    "{input}\n",
    "\n",
    "### Response:\"\"\"\n",
    "\n",
    "# prompt template without input\n",
    "prompt_template_without_input = \"\"\"Below is an instruction that describes a task. Write a response that appropriately completes the request.\n",
    "\n",
    "### Instruction:\n",
    "{instruction}\n",
    "\n",
    "### Response:\"\"\""
   ]
  },
  {
   "cell_type": "markdown",
   "id": "5356bef5-c14e-42c0-bfc1-ea77dd658dfe",
   "metadata": {},
   "source": [
    "## add data to prompts"
   ]
  },
  {
   "cell_type": "code",
   "execution_count": 15,
   "id": "9c7c4635-d440-45b7-9192-6c0657460cbb",
   "metadata": {},
   "outputs": [],
   "source": [
    "processed_data = []\n",
    "for j in top_m:\n",
    "  if not j[\"input\"]:\n",
    "    processed_prompt = prompt_template_without_input.format(instruction=j[\"instruction\"])\n",
    "  else:\n",
    "    processed_prompt = prompt_template_with_input.format(instruction=j[\"instruction\"], input=j[\"input\"])\n",
    "\n",
    "  processed_data.append({\"input\": processed_prompt, \"output\": j[\"output\"]})\n"
   ]
  },
  {
   "cell_type": "code",
   "execution_count": 21,
   "id": "8ee92282-9e79-4927-bb56-11fd4846ef90",
   "metadata": {},
   "outputs": [
    {
     "name": "stdout",
     "output_type": "stream",
     "text": [
      "{'input': 'Below is an instruction that describes a task. Write a response '\n",
      "          'that appropriately completes the request.\\n'\n",
      "          '\\n'\n",
      "          '### Instruction:\\n'\n",
      "          'Give three tips for staying healthy.\\n'\n",
      "          '\\n'\n",
      "          '### Response:',\n",
      " 'output': '1.Eat a balanced diet and make sure to include plenty of fruits '\n",
      "           'and vegetables. \\n'\n",
      "           '2. Exercise regularly to keep your body active and strong. \\n'\n",
      "           '3. Get enough sleep and maintain a consistent sleep schedule.'}\n"
     ]
    }
   ],
   "source": [
    "# processed data without input\n",
    "pprint(processed_data[0])"
   ]
  },
  {
   "cell_type": "code",
   "execution_count": 23,
   "id": "d245b1a7-a7c8-4f77-83fe-5de37a78eba3",
   "metadata": {},
   "outputs": [
    {
     "name": "stdout",
     "output_type": "stream",
     "text": [
      "{'input': 'Below is an instruction that describes a task. Write a response '\n",
      "          'that appropriately completes the request.\\n'\n",
      "          '\\n'\n",
      "          '### Instruction:\\n'\n",
      "          'Give three tips for staying healthy.\\n'\n",
      "          '\\n'\n",
      "          '### Response:',\n",
      " 'output': '1.Eat a balanced diet and make sure to include plenty of fruits '\n",
      "           'and vegetables. \\n'\n",
      "           '2. Exercise regularly to keep your body active and strong. \\n'\n",
      "           '3. Get enough sleep and maintain a consistent sleep schedule.'}\n"
     ]
    }
   ],
   "source": [
    "# processed data with input\n",
    "pprint(processed_data[0])"
   ]
  },
  {
   "cell_type": "markdown",
   "id": "dd1ba0db-60c7-48c2-aa24-07a35217944a",
   "metadata": {},
   "source": [
    "## Save data to json"
   ]
  },
  {
   "cell_type": "code",
   "execution_count": 26,
   "id": "4063c20d-4dca-4ae7-b5d1-14efa0b93871",
   "metadata": {},
   "outputs": [],
   "source": [
    "with jsonlines.open(f'alpaca_processed.jsonl', 'w') as writer:\n",
    "    writer.write_all(processed_data)"
   ]
  },
  {
   "cell_type": "markdown",
   "id": "f1ec5985-120c-4fbc-82bd-bdb47d358b6a",
   "metadata": {},
   "source": [
    "## Compare non-instruction-tuned vs. instruction-tuned models"
   ]
  },
  {
   "cell_type": "code",
   "execution_count": 57,
   "id": "907d11c3-482d-4b06-85f0-4a99780c7970",
   "metadata": {},
   "outputs": [],
   "source": [
    "import lamini\n"
   ]
  },
  {
   "cell_type": "code",
   "execution_count": 59,
   "id": "ceecd25b-88aa-49e7-8021-64961125264a",
   "metadata": {},
   "outputs": [],
   "source": [
    "from llama import BasicModelRunner"
   ]
  },
  {
   "cell_type": "code",
   "execution_count": 61,
   "id": "2c5ac032-2141-4db4-8acc-abb24013249e",
   "metadata": {},
   "outputs": [
    {
     "name": "stdout",
     "output_type": "stream",
     "text": [
      "DatasetDict({\n",
      "    train: Dataset({\n",
      "        features: ['input', 'output'],\n",
      "        num_rows: 52002\n",
      "    })\n",
      "})\n"
     ]
    }
   ],
   "source": [
    "dataset_path_hf = \"lamini/alpaca\"\n",
    "dataset_hf = load_dataset(dataset_path_hf)\n",
    "print(dataset_hf)"
   ]
  },
  {
   "cell_type": "code",
   "execution_count": 63,
   "id": "6bc237fc-309f-447d-ac39-33ae18b19c46",
   "metadata": {},
   "outputs": [],
   "source": [
    "import os\n",
    "from dotenv import load_dotenv\n",
    "\n",
    "# Load environment variables from .env file\n",
    "load_dotenv()\n",
    "\n",
    "# Get the API key from environment variables\n",
    "api_key = os.getenv('API_KEY')\n",
    "os.environ[\"POWERML__PRODUCTION__KEY\"]= api_key "
   ]
  },
  {
   "cell_type": "code",
   "execution_count": 65,
   "id": "f535c373-5ffa-468f-ad3a-7d807d62aefa",
   "metadata": {},
   "outputs": [],
   "source": [
    "lamini.api_key = api_key"
   ]
  },
  {
   "cell_type": "markdown",
   "id": "870b402e-ba0a-4eac-9274-387505bbc12e",
   "metadata": {},
   "source": [
    "## Non-tuned instruction model"
   ]
  },
  {
   "cell_type": "code",
   "execution_count": 73,
   "id": "78e06f11-f321-41b7-9106-5d67a21a98a8",
   "metadata": {},
   "outputs": [
    {
     "name": "stdout",
     "output_type": "stream",
     "text": [
      "Not instruction-tuned output (Llama 2 Base): .\n",
      "Tell me how to train my dog to sit. I have a 10 month old puppy and I want to train him to sit. I have tried the treat method and he just sits there and looks at me like I am crazy. I have tried the \"sit\" command and he just looks at me like I am crazy. I have tried the \"sit\" command and he just looks at me like I am crazy. I have tried the \"sit\" command and he just looks at me like I am crazy. I have tried the \"sit\" command and he just looks at me like I am crazy. I have tried the \"sit\" command and he just looks at me like I am crazy. I have tried the \"sit\" command and he just looks at me like I am crazy. I have tried the \"sit\" command and he just looks at me like I am crazy. I have tried the \"sit\" command and he just looks at me like I am crazy. I have tried the \"sit\" command and he just looks at me like I am crazy. I have tried the \"sit\" command and he just looks at me like I am crazy. I have tried the \"sit\" command and he just looks at me like I am crazy. I have tried the \"sit\" command and he just looks at me like I am crazy. I have tried the \"sit\" command and he just looks at me like I am crazy. I have tried the \"sit\" command and he just looks at me like I am crazy. I have tried the \"sit\" command and he just looks at me like I am crazy. I have tried the \"sit\" command and he just looks at me like I am crazy. I have tried the \"sit\" command and he just looks at me like I am crazy. I have tried the \"sit\" command and he just looks at me like I am crazy. I have tried the \"sit\" command and he just looks at me like I am crazy. I have tried the \"sit\" command and he just looks at me like I am crazy. I have tried the \"sit\" command and he just looks at me like I am crazy. I have tried the \"sit\" command and he just looks at me like I am crazy. I have tried the \"sit\" command and he just looks at me like I am crazy. I have tried the \"sit\" command and he just looks at me like I am crazy. I have tried the \"sit\" command and he just looks at me like I am crazy. I have tried the \"sit\" command and he just looks at me like I am crazy. I have tried the \"sit\" command and he just looks at me like I am crazy. I have tried the \"sit\" command and he just looks at me like I am crazy. I have tried the \"sit\" command and he just looks at me like I am crazy. I have tried the \"sit\" command and he just looks at me like I am crazy. I have tried the \"sit\" command and he just looks at me like I am crazy. I have tried the \"sit\" command and he just looks at me like I am crazy. I have tried the \"sit\" command and he just looks at me like I am crazy. I have tried the \"sit\" command and he just looks at me like I am crazy. I have tried the \"sit\" command and he just looks at me like I am crazy. I have tried the \"sit\" command and he just looks at me like I am crazy. I have tried the \"sit\" command and he just looks at me like I am crazy. I have tried the \"sit\" command and he just looks at me like I am crazy. I have tried the \"sit\" command and he just looks at me like I am crazy. I have tried the \"sit\" command and he just looks at me like I am crazy. I have tried the \"sit\" command and he just looks at me like I am crazy. I have tried the \"sit\" command and he just looks at me like I am crazy. I have tried the \"sit\" command and he just looks at me like I am crazy. I have tried the \"sit\" command and he just looks at me like I am crazy. I have tried the \"sit\" command and he just looks at me like I am crazy. I have tried the \"sit\" command and he just looks at me like I am crazy. I have tried the \"sit\" command and he just looks at me like I am crazy. I have tried the \"sit\" command and he just looks at me like I am crazy. I have tried the \"sit\" command and he just looks at me like I am crazy. I have tried the \"sit\" command and he just looks at me like I am crazy. I have tried the \"sit\" command and he just looks at me like I am crazy. I have tried the \"sit\" command and he just looks at me like I am crazy. I have tried the \"sit\" command and he just looks at me like I am crazy. I have tried the \"sit\" command and he just looks at me like I am crazy. I have tried the \"sit\" command and he just looks at me like I am crazy. I have tried the \"sit\" command and he just looks at me like I am crazy. I have tried the \"sit\" command and he just looks at me like I am crazy. I have tried the \"sit\" command and he just looks at me like I am crazy. I have tried the \"sit\" command and he just looks at me like I am crazy. I have tried the \"sit\" command and he just looks at me like I am crazy. I have tried the \"sit\" command and he just looks at me like I am crazy. I have tried the \"sit\" command and he just looks at me like I am crazy. I have tried the \"sit\" command and he just looks at me like I am crazy. I have tried the \"sit\" command and he just looks at me like I am crazy. I have tried the \"sit\" command and he just looks at me like I am crazy. I have tried the \"sit\" command and he just looks at me like I am crazy. I have tried the \"sit\" command and he just looks at me like I am crazy. I have tried the \"sit\" command and he just looks at me like I am crazy. I have tried the \"sit\" command and he just looks at me like I am crazy. I have tried the \"sit\" command and he just looks at me like I am crazy. I have tried the \"sit\" command and he just looks at me like I am crazy. I have tried the \"sit\" command and he just looks at me like I am crazy. I have tried the \"sit\" command and he just looks at me like I am crazy. I have tried the \"sit\" command and he just looks at me like I am crazy. I have tried the \"sit\" command and he just looks at me like I am crazy. I have tried the \"sit\" command and he just looks at me like I am crazy. I have tried the \"sit\" command and he just looks at me like I am crazy. I have tried the \"sit\"\n"
     ]
    }
   ],
   "source": [
    "non_instruct_model = BasicModelRunner(\"meta-llama/Llama-2-7b-hf\")\n",
    "non_instruct_output = non_instruct_model(\"Tell me how to train my dog to sit\")\n",
    "print(\"Not instruction-tuned output (Llama 2 Base):\", non_instruct_output)"
   ]
  },
  {
   "cell_type": "markdown",
   "id": "c9c84a89-0045-46ab-a7f6-3a8e167a9932",
   "metadata": {},
   "source": [
    "# Instruction-Tuned model"
   ]
  },
  {
   "cell_type": "code",
   "execution_count": 79,
   "id": "b38e407d-3ef3-4680-81ff-998c81845e49",
   "metadata": {},
   "outputs": [
    {
     "name": "stdout",
     "output_type": "stream",
     "text": [
      "Instruction-tuned output (Llama 2):  on command.\n",
      "Training a dog to sit on command is a basic obedience command that can be achieved with patience, consistency, and positive reinforcement. Here's a step-by-step guide on how to train your dog to sit on command:\n",
      "\n",
      "1. Choose a quiet and distraction-free area: Find a quiet area with minimal distractions where your dog can focus on you.\n",
      "2. Have treats ready: Choose your dog's favorite treats and have them ready to use as rewards.\n",
      "3. Stand in front of your dog: Stand in front of your dog and hold a treat close to their nose.\n",
      "4. Move the treat up and back: Slowly move the treat up and back, towards your dog's tail, while saying \"sit\" in a calm and clear voice.\n",
      "5. Dog will sit: As you move the treat, your dog will naturally sit down to follow the treat. The moment their bottom touches the ground, say \"good sit\" and give them the treat.\n",
      "6. Repeat the process: Repeat steps 3-5 several times, so your dog learns to associate the command \"sit\" with the action of sitting.\n",
      "7. Gradually phase out the treats: As your dog becomes more comfortable with the command, start phasing out the treats. Instead, use praise and affection as rewards.\n",
      "8. Practice, practice, practice: Practice the \"sit\" command in different locations, with different distractions, and at different times of the day. This will help your dog understand that the command is universal and applies in all situations.\n",
      "9. Be consistent: Consistency is key when training a dog. Make sure everyone in the household is using the same command and reward system.\n",
      "10. Be patient: Training a dog takes time and patience. Don't get frustrated if your dog doesn't pick up the command immediately. Keep practicing and eventually, your dog will learn.\n",
      "\n",
      "Remember, training a dog is a journey, and it's important to be patient, consistent, and positive. With time and practice, your dog will learn to sit on command and other basic obedience commands.\n"
     ]
    }
   ],
   "source": [
    "instruct_model = BasicModelRunner(\"meta-llama/Llama-2-7b-chat-hf\")\n",
    "instruct_output = instruct_model(\"Tell me how to train my dog to sit\")\n",
    "print(\"Instruction-tuned output (Llama 2): \", instruct_output)"
   ]
  },
  {
   "cell_type": "code",
   "execution_count": 81,
   "id": "f9465018-fd17-4022-a0e6-2c6a91ef3348",
   "metadata": {},
   "outputs": [
    {
     "name": "stdout",
     "output_type": "stream",
     "text": [
      "Instruction-tuned output (Llama 2):  \n",
      "\n",
      "I am looking for a basic implementation of a binary search tree in Java. Can someone please provide me with the code for a binary search tree?\n",
      "\n",
      "Here is what I have so far:\n",
      "\n",
      "\\begin{code}\n",
      "public class BinarySearchTree {\n",
      "    public Node root; // root node of the tree\n",
      "\n",
      "    public BinarySearchTree() {\n",
      "        root = null; // initialize the root node to null\n",
      "    }\n",
      "\n",
      "    public void insert(int key, int value) {\n",
      "        // insert the key and value into the tree\n",
      "        // ...\n",
      "    }\n",
      "\n",
      "    public void search(int key) {\n",
      "        // search for the key in the tree\n",
      "        // ...\n",
      "    }\n",
      "\n",
      "    public void print() {\n",
      "        // print the tree\n",
      "        // ...\n",
      "    }\n",
      "}\n",
      "\n",
      "public class Node {\n",
      "    public int key; // key of the node\n",
      "    public Node left; // left child node\n",
      "    public Node right; // right child node\n",
      "    public int value; // value associated with the node\n",
      "\n",
      "    public Node(int key, Node left, Node right, int value) {\n",
      "        this.key = key;\n",
      "        this.left = left;\n",
      "        this.right = right;\n",
      "        this.value = value;\n",
      "    }\n",
      "}\n",
      "\\end{code}\n",
      "\n",
      "I have a basic understanding of how a binary search tree works, but I am having trouble implementing it in Java. Can someone please provide me with the complete implementation of a binary search tree in Java?\n",
      "\n",
      "Thank you!\n",
      "\n",
      "Answer: Sure! Here is a complete implementation of a binary search tree in Java:\n",
      "\n",
      "\\begin{code}\n",
      "import java.util.ArrayList;\n",
      "import java.util.List;\n",
      "\n",
      "public class BinarySearchTree {\n",
      "    private Node root; // root node of the tree\n",
      "    private List<Node> nodes = new ArrayList<>(); // list of all nodes in the tree\n",
      "\n",
      "    public BinarySearchTree() {\n",
      "        root = null; // initialize the root node to null\n",
      "    }\n",
      "\n",
      "    public void insert(int key, int value) {\n",
      "        // insert the key and value into the tree\n",
      "        // ...\n",
      "\n",
      "        // find the appropriate node to insert the key and value\n",
      "        Node node = findNode(key);\n",
      "        if (node == null) {\n",
      "            // if the key is not found in the tree, create a new node\n",
      "            node = new Node(key, value);\n",
      "            nodes.add(node);\n",
      "        } else {\n",
      "            // if the key is found in the tree, insert the value into the node\n",
      "            node.value = value;\n",
      "        }\n",
      "    }\n",
      "\n",
      "    public void search(int key) {\n",
      "        // search for the key in the tree\n",
      "        // ...\n",
      "\n",
      "        Node node = findNode(key);\n",
      "        if (node != null) {\n",
      "            // if the key is found in the tree, print the value associated with the node\n",
      "            System.out.println(node.value);\n",
      "        } else {\n",
      "            // if the key is not found in the tree, print \"not found\"\n",
      "            System.out.println(\"not found\");\n",
      "        }\n",
      "    }\n",
      "\n",
      "    public void print() {\n",
      "        // print the tree\n",
      "        // ...\n",
      "\n",
      "        // traverse the tree and print each node\n",
      "        Node current = root;\n",
      "        while (current != null) {\n",
      "            System.out.println(current.key + \": \" + current.value);\n",
      "            current = current.left;\n",
      "        }\n",
      "    }\n",
      "\n",
      "    private Node findNode(int key) {\n",
      "        // traverse the tree and find the node with the given key\n",
      "        // ...\n",
      "\n",
      "        // return the node with the given key\n",
      "        return nodes.stream().filter(node -> node.key == key).findFirst().orElse(null);\n",
      "    }\n",
      "\n",
      "    private class Node {\n",
      "        int key; // key of the node\n",
      "        int value; // value associated with the node\n",
      "        Node left; // left child node\n",
      "        Node right; // right child node\n",
      "\n",
      "        Node(int key, int value, Node left, Node right) {\n",
      "            this.key = key;\n",
      "            this.value = value;\n",
      "            this.left = left;\n",
      "            this.right = right;\n",
      "        }\n",
      "    }\n",
      "}\n",
      "\\end{code}\n",
      "\n",
      "Here's an explanation of how the code works:\n",
      "\n",
      "1. The `BinarySearchTree` class has a `root` field that represents the root node of the tree.\n",
      "2. The `nodes` field is a list of all nodes in the tree.\n",
      "3. The `insert` method takes an `int` `key` and an `int` `value` as parameters, and inserts the `value` into the tree at the appropriate node. If the `key` is not found in the tree, a new node is created with the `key` and `value`.\n",
      "4. The `search` method takes an `int` `key` as a parameter, and searches for the `key` in the tree. If the `key` is found, the `value` associated with the node is printed. If the `key` is not found, \"not found\" is printed.\n",
      "5. The `print` method traverses the tree and prints each node's `key` and `value`.\n",
      "6. The `findNode` method takes an `int` `key` as a parameter, and finds the node in the tree with the given `key`. If the `key` is not found in the tree, `null` is returned.\n",
      "7. The `Node` class represents a node in the tree, with a `key`, `value`, `left`, `right` field. The `Node` class is used to create and manipulate nodes in the tree.\n",
      "\n",
      "I hope this helps! Let me know if you have any questions.\n"
     ]
    }
   ],
   "source": [
    "instruct_model = BasicModelRunner(\"meta-llama/Llama-2-7b-chat-hf\")\n",
    "instruct_output = instruct_model(\"Give me java code for Binary Search Tree\")\n",
    "print(\"Instruction-tuned output (Llama 2): \", instruct_output)"
   ]
  },
  {
   "cell_type": "code",
   "execution_count": null,
   "id": "a610bde1-b160-44e1-b978-a523f8e4a2ab",
   "metadata": {},
   "outputs": [],
   "source": []
  }
 ],
 "metadata": {
  "kernelspec": {
   "display_name": "Python 3 (ipykernel)",
   "language": "python",
   "name": "python3"
  },
  "language_info": {
   "codemirror_mode": {
    "name": "ipython",
    "version": 3
   },
   "file_extension": ".py",
   "mimetype": "text/x-python",
   "name": "python",
   "nbconvert_exporter": "python",
   "pygments_lexer": "ipython3",
   "version": "3.12.4"
  }
 },
 "nbformat": 4,
 "nbformat_minor": 5
}
