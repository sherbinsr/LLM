{
 "cells": [
  {
   "cell_type": "markdown",
   "id": "c4246a8b-cccd-4396-882c-6a7407c48886",
   "metadata": {},
   "source": [
    "# Evaluvation and Iteration"
   ]
  },
  {
   "cell_type": "code",
   "execution_count": null,
   "id": "5dc43f80-d0c1-4476-9624-85470f485f70",
   "metadata": {},
   "outputs": [],
   "source": [
    "import datasets\n",
    "import tempfile\n",
    "import logging\n",
    "import random\n",
    "import config\n",
    "import os\n",
    "import yaml\n",
    "import logging\n",
    "import difflib\n",
    "import pandas as pd\n",
    "\n",
    "import transformers\n",
    "import datasets\n",
    "import torch\n",
    "\n",
    "from tqdm import tqdm\n",
    "from utilities import *\n",
    "from transformers import AutoTokenizer, AutoModelForCausalLM\n",
    "\n",
    "logger = logging.getLogger(__name__)\n",
    "global_config = None"
   ]
  },
  {
   "cell_type": "code",
   "execution_count": null,
   "id": "fae63e07-d3ee-4774-a07a-4f9782064642",
   "metadata": {},
   "outputs": [],
   "source": [
    "dataset = datasets.load_dataset(\"lamini/lamini_docs\")\n",
    "\n",
    "test_dataset = dataset[\"test\"]"
   ]
  },
  {
   "cell_type": "code",
   "execution_count": null,
   "id": "15a165ee-b6e4-4f85-aafa-1922884dc898",
   "metadata": {},
   "outputs": [],
   "source": [
    "print(test_dataset[0][\"question\"])\n",
    "print(test_dataset[0][\"answer\"])"
   ]
  },
  {
   "cell_type": "markdown",
   "id": "4fed55ef-2ac2-4a13-91c1-969517254e11",
   "metadata": {},
   "source": [
    "## Set Model  tokenizer,trianer"
   ]
  },
  {
   "cell_type": "code",
   "execution_count": null,
   "id": "06bf5dce-a194-4205-9682-1de43e96b353",
   "metadata": {},
   "outputs": [],
   "source": [
    "model_name = \"lamini/lamini_docs_finetuned\"\n",
    "tokenizer = AutoTokenizer.from_pretrained(model_name)\n",
    "model = AutoModelForCausalLM.from_pretrained(model_name)"
   ]
  },
  {
   "cell_type": "markdown",
   "id": "c39a3046-de32-480c-b9df-b31fe3319e57",
   "metadata": {},
   "source": [
    "## Setup a  basic evaluation function"
   ]
  },
  {
   "cell_type": "code",
   "execution_count": null,
   "id": "a93a2d48-4a50-4f33-b2f0-9f4bca493f39",
   "metadata": {},
   "outputs": [],
   "source": [
    "def is_exact_match(a, b):\n",
    "    return a.strip() == b.strip()"
   ]
  },
  {
   "cell_type": "code",
   "execution_count": null,
   "id": "6186e73a-2eff-4692-a08f-a76292d17b9c",
   "metadata": {},
   "outputs": [],
   "source": [
    "model.eval()"
   ]
  },
  {
   "cell_type": "code",
   "execution_count": null,
   "id": "6024b1a6-1a01-425d-b46c-08a25ef4271a",
   "metadata": {},
   "outputs": [],
   "source": [
    "def inference(text, model, tokenizer, max_input_tokens=1000, max_output_tokens=100):\n",
    "  # Tokenize\n",
    "  tokenizer.pad_token = tokenizer.eos_token\n",
    "  input_ids = tokenizer.encode(\n",
    "      text,\n",
    "      return_tensors=\"pt\",\n",
    "      truncation=True,\n",
    "      max_length=max_input_tokens\n",
    "  )\n",
    "\n",
    "  # Generate\n",
    "  device = model.device\n",
    "  generated_tokens_with_prompt = model.generate(\n",
    "    input_ids=input_ids.to(device),\n",
    "    max_length=max_output_tokens\n",
    "  )\n",
    "\n",
    "  # Decode\n",
    "  generated_text_with_prompt = tokenizer.batch_decode(generated_tokens_with_prompt, skip_special_tokens=True)\n",
    "\n",
    "  # Strip the prompt\n",
    "  generated_text_answer = generated_text_with_prompt[0][len(text):]\n",
    "\n",
    "  return generated_text_answer"
   ]
  },
  {
   "cell_type": "code",
   "execution_count": null,
   "id": "4e2630a9-442a-4227-b975-d0cf80f58609",
   "metadata": {},
   "outputs": [],
   "source": [
    "answer = test_dataset[0][\"answer\"]\n",
    "print(answer)"
   ]
  },
  {
   "cell_type": "code",
   "execution_count": null,
   "id": "75a93832-4503-4513-a77a-3c2ca7cd9579",
   "metadata": {},
   "outputs": [],
   "source": [
    "exact_match = is_exact_match(generated_answer, answer)\n",
    "print(exact_match)"
   ]
  },
  {
   "cell_type": "code",
   "execution_count": null,
   "id": "a7fdd697-2e7e-437e-bd01-3fa1a45de6f8",
   "metadata": {},
   "outputs": [],
   "source": [
    "## Run over entire dataset"
   ]
  }
 ],
 "metadata": {
  "kernelspec": {
   "display_name": "Python 3 (ipykernel)",
   "language": "python",
   "name": "python3"
  },
  "language_info": {
   "codemirror_mode": {
    "name": "ipython",
    "version": 3
   },
   "file_extension": ".py",
   "mimetype": "text/x-python",
   "name": "python",
   "nbconvert_exporter": "python",
   "pygments_lexer": "ipython3",
   "version": "3.12.4"
  }
 },
 "nbformat": 4,
 "nbformat_minor": 5
}
