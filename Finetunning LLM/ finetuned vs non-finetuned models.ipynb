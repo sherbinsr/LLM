{
 "cells": [
  {
   "cell_type": "markdown",
   "id": "e7e5d5f5-b950-4607-a19c-e8689f1234a9",
   "metadata": {},
   "source": [
    "# Compare finetuned vs non-finetuned models"
   ]
  },
  {
   "cell_type": "code",
   "execution_count": 7,
   "id": "8fd6da8c-b7cc-42b0-9034-7de432249ebc",
   "metadata": {},
   "outputs": [
    {
     "name": "stdout",
     "output_type": "stream",
     "text": [
      "Collecting lamini\n",
      "  Downloading lamini-2.5.4-2-py3-none-any.whl.metadata (1.5 kB)\n",
      "Collecting lamini-configuration[yaml] (from lamini)\n",
      "  Downloading lamini_configuration-0.8.3-py3-none-any.whl.metadata (11 kB)\n",
      "Requirement already satisfied: requests in c:\\users\\sherb\\anaconda3\\lib\\site-packages (from lamini) (2.32.2)\n",
      "Requirement already satisfied: tqdm in c:\\users\\sherb\\anaconda3\\lib\\site-packages (from lamini) (4.66.4)\n",
      "Requirement already satisfied: numpy<2.0.0 in c:\\users\\sherb\\anaconda3\\lib\\site-packages (from lamini) (1.26.4)\n",
      "Collecting jsonlines (from lamini)\n",
      "  Downloading jsonlines-4.0.0-py3-none-any.whl.metadata (1.6 kB)\n",
      "Requirement already satisfied: pandas in c:\\users\\sherb\\anaconda3\\lib\\site-packages (from lamini) (2.2.2)\n",
      "Collecting azure-storage-blob (from lamini)\n",
      "  Downloading azure_storage_blob-12.21.0-py3-none-any.whl.metadata (26 kB)\n",
      "Requirement already satisfied: scikit-learn in c:\\users\\sherb\\anaconda3\\lib\\site-packages (from lamini) (1.4.2)\n",
      "Requirement already satisfied: aiohttp in c:\\users\\sherb\\anaconda3\\lib\\site-packages (from lamini) (3.9.5)\n",
      "Requirement already satisfied: faiss-cpu in c:\\users\\sherb\\anaconda3\\lib\\site-packages (from lamini) (1.8.0.post1)\n",
      "Requirement already satisfied: aiosignal>=1.1.2 in c:\\users\\sherb\\anaconda3\\lib\\site-packages (from aiohttp->lamini) (1.2.0)\n",
      "Requirement already satisfied: attrs>=17.3.0 in c:\\users\\sherb\\anaconda3\\lib\\site-packages (from aiohttp->lamini) (23.1.0)\n",
      "Requirement already satisfied: frozenlist>=1.1.1 in c:\\users\\sherb\\anaconda3\\lib\\site-packages (from aiohttp->lamini) (1.4.0)\n",
      "Requirement already satisfied: multidict<7.0,>=4.5 in c:\\users\\sherb\\anaconda3\\lib\\site-packages (from aiohttp->lamini) (6.0.4)\n",
      "Requirement already satisfied: yarl<2.0,>=1.0 in c:\\users\\sherb\\anaconda3\\lib\\site-packages (from aiohttp->lamini) (1.9.3)\n",
      "Collecting azure-core>=1.28.0 (from azure-storage-blob->lamini)\n",
      "  Downloading azure_core-1.30.2-py3-none-any.whl.metadata (37 kB)\n",
      "Requirement already satisfied: cryptography>=2.1.4 in c:\\users\\sherb\\anaconda3\\lib\\site-packages (from azure-storage-blob->lamini) (42.0.5)\n",
      "Requirement already satisfied: typing-extensions>=4.6.0 in c:\\users\\sherb\\anaconda3\\lib\\site-packages (from azure-storage-blob->lamini) (4.11.0)\n",
      "Collecting isodate>=0.6.1 (from azure-storage-blob->lamini)\n",
      "  Downloading isodate-0.6.1-py2.py3-none-any.whl.metadata (9.6 kB)\n",
      "Requirement already satisfied: packaging in c:\\users\\sherb\\anaconda3\\lib\\site-packages (from faiss-cpu->lamini) (23.2)\n",
      "Requirement already satisfied: pyyaml<7.0,>=6.0 in c:\\users\\sherb\\anaconda3\\lib\\site-packages (from lamini-configuration[yaml]->lamini) (6.0.1)\n",
      "Requirement already satisfied: python-dateutil>=2.8.2 in c:\\users\\sherb\\anaconda3\\lib\\site-packages (from pandas->lamini) (2.9.0.post0)\n",
      "Requirement already satisfied: pytz>=2020.1 in c:\\users\\sherb\\anaconda3\\lib\\site-packages (from pandas->lamini) (2024.1)\n",
      "Requirement already satisfied: tzdata>=2022.7 in c:\\users\\sherb\\anaconda3\\lib\\site-packages (from pandas->lamini) (2023.3)\n",
      "Requirement already satisfied: charset-normalizer<4,>=2 in c:\\users\\sherb\\anaconda3\\lib\\site-packages (from requests->lamini) (3.3.2)\n",
      "Requirement already satisfied: idna<4,>=2.5 in c:\\users\\sherb\\anaconda3\\lib\\site-packages (from requests->lamini) (3.7)\n",
      "Requirement already satisfied: urllib3<3,>=1.21.1 in c:\\users\\sherb\\anaconda3\\lib\\site-packages (from requests->lamini) (2.2.2)\n",
      "Requirement already satisfied: certifi>=2017.4.17 in c:\\users\\sherb\\anaconda3\\lib\\site-packages (from requests->lamini) (2024.7.4)\n",
      "Requirement already satisfied: scipy>=1.6.0 in c:\\users\\sherb\\anaconda3\\lib\\site-packages (from scikit-learn->lamini) (1.13.1)\n",
      "Requirement already satisfied: joblib>=1.2.0 in c:\\users\\sherb\\anaconda3\\lib\\site-packages (from scikit-learn->lamini) (1.4.2)\n",
      "Requirement already satisfied: threadpoolctl>=2.0.0 in c:\\users\\sherb\\anaconda3\\lib\\site-packages (from scikit-learn->lamini) (2.2.0)\n",
      "Requirement already satisfied: colorama in c:\\users\\sherb\\anaconda3\\lib\\site-packages (from tqdm->lamini) (0.4.6)\n",
      "Requirement already satisfied: six>=1.11.0 in c:\\users\\sherb\\anaconda3\\lib\\site-packages (from azure-core>=1.28.0->azure-storage-blob->lamini) (1.16.0)\n",
      "Requirement already satisfied: cffi>=1.12 in c:\\users\\sherb\\anaconda3\\lib\\site-packages (from cryptography>=2.1.4->azure-storage-blob->lamini) (1.16.0)\n",
      "Requirement already satisfied: pycparser in c:\\users\\sherb\\anaconda3\\lib\\site-packages (from cffi>=1.12->cryptography>=2.1.4->azure-storage-blob->lamini) (2.21)\n",
      "Downloading lamini-2.5.4-2-py3-none-any.whl (691 kB)\n",
      "   ---------------------------------------- 0.0/691.4 kB ? eta -:--:--\n",
      "   -- ------------------------------------- 51.2/691.4 kB ? eta -:--:--\n",
      "   -------- ------------------------------- 153.6/691.4 kB 1.8 MB/s eta 0:00:01\n",
      "   ---------------- ----------------------- 286.7/691.4 kB 2.5 MB/s eta 0:00:01\n",
      "   ----------------------- ---------------- 409.6/691.4 kB 2.3 MB/s eta 0:00:01\n",
      "   --------------------------------- ------ 573.4/691.4 kB 2.6 MB/s eta 0:00:01\n",
      "   ------------------------------------- -- 655.4/691.4 kB 2.6 MB/s eta 0:00:01\n",
      "   ---------------------------------------  686.1/691.4 kB 2.3 MB/s eta 0:00:01\n",
      "   ---------------------------------------- 691.4/691.4 kB 2.1 MB/s eta 0:00:00\n",
      "Downloading azure_storage_blob-12.21.0-py3-none-any.whl (396 kB)\n",
      "   ---------------------------------------- 0.0/396.4 kB ? eta -:--:--\n",
      "   -------------- ------------------------- 143.4/396.4 kB 2.9 MB/s eta 0:00:01\n",
      "   -------------------------------- ------- 317.4/396.4 kB 3.9 MB/s eta 0:00:01\n",
      "   ---------------------------------------  389.1/396.4 kB 3.5 MB/s eta 0:00:01\n",
      "   ---------------------------------------  389.1/396.4 kB 3.5 MB/s eta 0:00:01\n",
      "   ---------------------------------------- 396.4/396.4 kB 1.9 MB/s eta 0:00:00\n",
      "Downloading jsonlines-4.0.0-py3-none-any.whl (8.7 kB)\n",
      "Downloading azure_core-1.30.2-py3-none-any.whl (194 kB)\n",
      "   ---------------------------------------- 0.0/194.3 kB ? eta -:--:--\n",
      "   ------------------------------------- -- 184.3/194.3 kB 3.7 MB/s eta 0:00:01\n",
      "   ---------------------------------------- 194.3/194.3 kB 3.9 MB/s eta 0:00:00\n",
      "Downloading isodate-0.6.1-py2.py3-none-any.whl (41 kB)\n",
      "   ---------------------------------------- 0.0/41.7 kB ? eta -:--:--\n",
      "   ---------------------------------------- 41.7/41.7 kB 2.0 MB/s eta 0:00:00\n",
      "Downloading lamini_configuration-0.8.3-py3-none-any.whl (22 kB)\n",
      "Installing collected packages: lamini-configuration, jsonlines, isodate, azure-core, azure-storage-blob, lamini\n",
      "Successfully installed azure-core-1.30.2 azure-storage-blob-12.21.0 isodate-0.6.1 jsonlines-4.0.0 lamini-2.5.4 lamini-configuration-0.8.3\n",
      "Note: you may need to restart the kernel to use updated packages.\n"
     ]
    }
   ],
   "source": [
    "pip install lamini"
   ]
  },
  {
   "cell_type": "code",
   "execution_count": 10,
   "id": "e3a8e722-16ea-4b79-9c2f-8464b932595a",
   "metadata": {},
   "outputs": [],
   "source": [
    "import lamini"
   ]
  },
  {
   "cell_type": "code",
   "execution_count": 11,
   "id": "db8d8aab-001c-4414-9916-cbe7eec01d31",
   "metadata": {},
   "outputs": [],
   "source": [
    "from llama import BasicModelRunner"
   ]
  },
  {
   "cell_type": "code",
   "execution_count": 27,
   "id": "659fae42-d126-4405-aefb-545e1a5c962c",
   "metadata": {},
   "outputs": [],
   "source": [
    "import os\n",
    "from dotenv import load_dotenv\n",
    "\n",
    "# Load environment variables from .env file\n",
    "load_dotenv()\n",
    "\n",
    "# Get the API key from environment variables\n",
    "api_key = os.getenv('API_KEY')\n",
    "os.environ[\"POWERML__PRODUCTION__KEY\"]= api_key "
   ]
  },
  {
   "cell_type": "code",
   "execution_count": 29,
   "id": "dddf8718-0656-4906-a7e9-bdb3e2bd13c9",
   "metadata": {},
   "outputs": [],
   "source": [
    "lamini.api_key = api_key"
   ]
  },
  {
   "cell_type": "markdown",
   "id": "7f0c8356-c8f7-4b07-a28c-8096ab5caeca",
   "metadata": {},
   "source": [
    "## Non FineTuned Model"
   ]
  },
  {
   "cell_type": "code",
   "execution_count": 31,
   "id": "7530db07-a37e-492f-9dc4-5366bed4e763",
   "metadata": {},
   "outputs": [],
   "source": [
    "non_finetuned = BasicModelRunner(\"meta-llama/Llama-2-7b-hf\")"
   ]
  },
  {
   "cell_type": "code",
   "execution_count": 33,
   "id": "ad1d24d1-e2ac-4096-8cf0-244ddd83e311",
   "metadata": {},
   "outputs": [],
   "source": [
    "non_finetuned_output = non_finetuned(\"Tell me how to train my dog to sit\")"
   ]
  },
  {
   "cell_type": "code",
   "execution_count": 24,
   "id": "ea887bb5-9937-427c-8fd9-c16217b77f80",
   "metadata": {},
   "outputs": [
    {
     "name": "stdout",
     "output_type": "stream",
     "text": [
      ".\n",
      "Tell me how to train my dog to sit. I have a 10 month old puppy and I want to train him to sit. I have tried the treat method and he just sits there and looks at me like I am crazy. I have tried the \"sit\" command and he just looks at me like I am crazy. I have tried the \"sit\" command and he just looks at me like I am crazy. I have tried the \"sit\" command and he just looks at me like I am crazy. I have tried the \"sit\" command and he just looks at me like I am crazy. I have tried the \"sit\" command and he just looks at me like I am crazy. I have tried the \"sit\" command and he just looks at me like I am crazy. I have tried the \"sit\" command and he just looks at me like I am crazy. I have tried the \"sit\" command and he just looks at me like I am crazy. I have tried the \"sit\" command and he just looks at me like I am crazy. I have tried the \"sit\" command and he just looks at me like I am crazy. I have tried the \"sit\" command and he just looks at me like I am crazy. I have tried the \"sit\" command and he just looks at me like I am crazy. I have tried the \"sit\" command and he just looks at me like I am crazy. I have tried the \"sit\" command and he just looks at me like I am crazy. I have tried the \"sit\" command and he just looks at me like I am crazy. I have tried the \"sit\" command and he just looks at me like I am crazy. I have tried the \"sit\" command and he just looks at me like I am crazy. I have tried the \"sit\" command and he just looks at me like I am crazy. I have tried the \"sit\" command and he just looks at me like I am crazy. I have tried the \"sit\" command and he just looks at me like I am crazy. I have tried the \"sit\" command and he just looks at me like I am crazy. I have tried the \"sit\" command and he just looks at me like I am crazy. I have tried the \"sit\" command and he just looks at me like I am crazy. I have tried the \"sit\" command and he just looks at me like I am crazy. I have tried the \"sit\" command and he just looks at me like I am crazy. I have tried the \"sit\" command and he just looks at me like I am crazy. I have tried the \"sit\" command and he just looks at me like I am crazy. I have tried the \"sit\" command and he just looks at me like I am crazy. I have tried the \"sit\" command and he just looks at me like I am crazy. I have tried the \"sit\" command and he just looks at me like I am crazy. I have tried the \"sit\" command and he just looks at me like I am crazy. I have tried the \"sit\" command and he just looks at me like I am crazy. I have tried the \"sit\" command and he just looks at me like I am crazy. I have tried the \"sit\" command and he just looks at me like I am crazy. I have tried the \"sit\" command and he just looks at me like I am crazy. I have tried the \"sit\" command and he just looks at me like I am crazy. I have tried the \"sit\" command and he just looks at me like I am crazy. I have tried the \"sit\" command and he just looks at me like I am crazy. I have tried the \"sit\" command and he just looks at me like I am crazy. I have tried the \"sit\" command and he just looks at me like I am crazy. I have tried the \"sit\" command and he just looks at me like I am crazy. I have tried the \"sit\" command and he just looks at me like I am crazy. I have tried the \"sit\" command and he just looks at me like I am crazy. I have tried the \"sit\" command and he just looks at me like I am crazy. I have tried the \"sit\" command and he just looks at me like I am crazy. I have tried the \"sit\" command and he just looks at me like I am crazy. I have tried the \"sit\" command and he just looks at me like I am crazy. I have tried the \"sit\" command and he just looks at me like I am crazy. I have tried the \"sit\" command and he just looks at me like I am crazy. I have tried the \"sit\" command and he just looks at me like I am crazy. I have tried the \"sit\" command and he just looks at me like I am crazy. I have tried the \"sit\" command and he just looks at me like I am crazy. I have tried the \"sit\" command and he just looks at me like I am crazy. I have tried the \"sit\" command and he just looks at me like I am crazy. I have tried the \"sit\" command and he just looks at me like I am crazy. I have tried the \"sit\" command and he just looks at me like I am crazy. I have tried the \"sit\" command and he just looks at me like I am crazy. I have tried the \"sit\" command and he just looks at me like I am crazy. I have tried the \"sit\" command and he just looks at me like I am crazy. I have tried the \"sit\" command and he just looks at me like I am crazy. I have tried the \"sit\" command and he just looks at me like I am crazy. I have tried the \"sit\" command and he just looks at me like I am crazy. I have tried the \"sit\" command and he just looks at me like I am crazy. I have tried the \"sit\" command and he just looks at me like I am crazy. I have tried the \"sit\" command and he just looks at me like I am crazy. I have tried the \"sit\" command and he just looks at me like I am crazy. I have tried the \"sit\" command and he just looks at me like I am crazy. I have tried the \"sit\" command and he just looks at me like I am crazy. I have tried the \"sit\" command and he just looks at me like I am crazy. I have tried the \"sit\" command and he just looks at me like I am crazy. I have tried the \"sit\" command and he just looks at me like I am crazy. I have tried the \"sit\" command and he just looks at me like I am crazy. I have tried the \"sit\" command and he just looks at me like I am crazy. I have tried the \"sit\" command and he just looks at me like I am crazy. I have tried the \"sit\" command and he just looks at me like I am crazy. I have tried the \"sit\" command and he just looks at me like I am crazy.\n"
     ]
    }
   ],
   "source": [
    "print(non_finetuned_output)"
   ]
  },
  {
   "cell_type": "markdown",
   "id": "8ac51cfd-cf6f-4f7b-996d-244af052e87a",
   "metadata": {},
   "source": [
    "## Fine Tuned Model"
   ]
  },
  {
   "cell_type": "code",
   "execution_count": 39,
   "id": "f936f648-995c-4929-ad71-894f7925416c",
   "metadata": {},
   "outputs": [],
   "source": [
    "finetuned_model = BasicModelRunner(\"meta-llama/Llama-2-7b-chat-hf\")"
   ]
  },
  {
   "cell_type": "code",
   "execution_count": 41,
   "id": "261b1cd6-5346-4e45-bc75-da7b53fdfc01",
   "metadata": {},
   "outputs": [],
   "source": [
    "finetuned_output = finetuned_model(\"Tell me how to train my dog to sit\")"
   ]
  },
  {
   "cell_type": "code",
   "execution_count": 43,
   "id": "9d8a2cd1-b5b5-46e8-97c5-17bf42d3f0cf",
   "metadata": {},
   "outputs": [
    {
     "name": "stdout",
     "output_type": "stream",
     "text": [
      "on command.\n",
      "Training a dog to sit on command is a basic obedience command that can be achieved with patience, consistency, and positive reinforcement. Here's a step-by-step guide on how to train your dog to sit on command:\n",
      "\n",
      "1. Choose a quiet and distraction-free area: Find a quiet area with minimal distractions where your dog can focus on you.\n",
      "2. Have treats ready: Choose your dog's favorite treats and have them ready to use as rewards.\n",
      "3. Stand in front of your dog: Stand in front of your dog and hold a treat close to their nose.\n",
      "4. Move the treat up and back: Slowly move the treat up and back, towards your dog's tail, while saying \"sit\" in a calm and clear voice.\n",
      "5. Dog will sit: As you move the treat, your dog will naturally sit down to follow the treat. The moment their bottom touches the ground, say \"good sit\" and give them the treat.\n",
      "6. Repeat the process: Repeat steps 3-5 several times, so your dog learns to associate the command \"sit\" with the action of sitting.\n",
      "7. Gradually phase out the treats: As your dog becomes more comfortable with the command, start phasing out the treats. Instead, use praise and affection as rewards.\n",
      "8. Practice, practice, practice: Practice the \"sit\" command in different locations, with different distractions, and at different times of the day. This will help your dog understand that the command is universal and applies in all situations.\n",
      "9. Be consistent: Consistency is key when training a dog. Make sure everyone in the household is using the same command and reward system.\n",
      "10. Be patient: Training a dog takes time and patience. Don't get frustrated if your dog doesn't pick up the command immediately. Keep practicing and eventually, your dog will learn.\n",
      "\n",
      "Remember, training a dog is a journey, and it's important to be patient, consistent, and positive. With time and practice, your dog will learn to sit on command and other basic obedience commands.\n"
     ]
    }
   ],
   "source": [
    "print(finetuned_output)"
   ]
  }
 ],
 "metadata": {
  "kernelspec": {
   "display_name": "Python 3 (ipykernel)",
   "language": "python",
   "name": "python3"
  },
  "language_info": {
   "codemirror_mode": {
    "name": "ipython",
    "version": 3
   },
   "file_extension": ".py",
   "mimetype": "text/x-python",
   "name": "python",
   "nbconvert_exporter": "python",
   "pygments_lexer": "ipython3",
   "version": "3.12.4"
  }
 },
 "nbformat": 4,
 "nbformat_minor": 5
}
